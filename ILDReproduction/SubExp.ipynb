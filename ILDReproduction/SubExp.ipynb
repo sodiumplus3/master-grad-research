{
 "cells": [
  {
   "cell_type": "code",
   "execution_count": null,
   "id": "surgical-difference",
   "metadata": {},
   "outputs": [],
   "source": [
    "import numpy as np\n",
    "import matplotlib.pyplot as plt\n",
    "import pandas as pd\n",
    "import scipy.stats as stats\n",
    "\n",
    "plt.rcParams['font.size'] = 16"
   ]
  },
  {
   "cell_type": "code",
   "execution_count": null,
   "id": "cordless-august",
   "metadata": {},
   "outputs": [],
   "source": [
    "exp_order = pd.read_csv(\"exp_order.csv\").values\n",
    "exp_answer = pd.read_csv(\"exp_answer.csv\").values[:,5:17].astype(float)\n",
    "pra = pd.read_csv(\"exp_answer.csv\").values[:,1:5].astype(float)\n",
    "exp_answer.shape"
   ]
  },
  {
   "cell_type": "code",
   "execution_count": null,
   "id": "fitted-algebra",
   "metadata": {},
   "outputs": [],
   "source": [
    "# Sort\n",
    "sorted_answer = np.zeros(exp_answer.shape) # (anchor, reference, MIX, PM)\n",
    "for i in range(len(sorted_answer)):\n",
    "    o1 = exp_order[3*i]\n",
    "    o2 = exp_order[3*i+1]\n",
    "    o3 = exp_order[3*i+2]\n",
    "    a = exp_answer[i]\n",
    "\n",
    "    cnt = 0\n",
    "    for j in o1:\n",
    "        sorted_answer[i, j] = a[cnt]\n",
    "        cnt += 1\n",
    "    for j in o2:\n",
    "        sorted_answer[i, j+4] = a[cnt]\n",
    "        cnt += 1\n",
    "    for j in o3:\n",
    "        sorted_answer[i, j+8] = a[cnt]\n",
    "        cnt += 1\n",
    "\n",
    "q1 = sorted_answer[:,0:4]\n",
    "q2 = sorted_answer[:,4:8]\n",
    "q3 = sorted_answer[:,8:12]\n",
    "pra = pra[:,[2,3,0,1]]\n",
    "q1,q2,q3"
   ]
  },
  {
   "cell_type": "code",
   "execution_count": null,
   "id": "breeding-version",
   "metadata": {},
   "outputs": [],
   "source": [
    "# Extract data\n",
    "# q1: Other(Instrumental) q2: Drums q3: Vocals\n",
    "qn = q1\n",
    "qn = np.delete(qn,1,axis=0)\n",
    "\n",
    "MIX_score = []\n",
    "PM_score = []\n",
    "anch_score = []\n",
    "ref_score = []\n",
    "for a in qn:\n",
    "#     if a[0] >= 1000:\n",
    "#         pass\n",
    "#     elif a[1] < 0:\n",
    "#         pass\n",
    "#     elif a[3] == 100 or a[3] == 50:\n",
    "#         pass\n",
    "#     elif a[2] == 60:\n",
    "#         pass\n",
    "#     else:\n",
    "    MIX_score.append(a[2])\n",
    "    PM_score.append(a[3])\n",
    "    anch_score.append(a[0])\n",
    "    ref_score.append(a[1])  \n",
    "\n",
    "MIX_score = np.array(MIX_score)\n",
    "PM_score = np.array(PM_score)\n",
    "anch_score = np.array(anch_score)\n",
    "ref_score = np.array(ref_score)\n",
    "print(MIX_score)\n",
    "print(PM_score)"
   ]
  },
  {
   "cell_type": "code",
   "execution_count": null,
   "id": "broke-campbell",
   "metadata": {},
   "outputs": [],
   "source": [
    "data = [anch_score, PM_score, MIX_score, ref_score]\n",
    "\n",
    "# Boxplot\n",
    "fig, ax = plt.subplots(figsize=(4.5,4))\n",
    "# ax.set_title(\"\")\n",
    "info = ax.boxplot(data, notch=True)\n",
    "ax.set_xticklabels([\"C1\",\"C2\", \"C3\", \"C4\"])\n",
    "ax.set_xlabel(\"Label\")\n",
    "ax.set_ylabel(\"Score\")\n",
    "plt.tight_layout()\n",
    "plt.savefig(\"figs/boxplot_vocals.pdf\")\n",
    "plt.show()\n",
    "\n",
    "# Histgram\n",
    "fig, ax = plt.subplots(1,len(data),figsize=(12,3))\n",
    "for n in range(len(data)):\n",
    "    ax[n].hist(data[n],bins=20,range=(0,100))\n",
    "    ax[n].set_xlim(0,100)\n",
    "plt.show()\n"
   ]
  },
  {
   "cell_type": "code",
   "execution_count": null,
   "id": "behind-subject",
   "metadata": {},
   "outputs": [],
   "source": [
    "# Delete outliers\n",
    "MIX_score_ = MIX_score[MIX_score!=60]\n",
    "print(len(MIX_score_),len(MIX_score))\n",
    "PM_score_ = PM_score[PM_score!=50]\n",
    "PM_score_ = PM_score_[PM_score_!=0]\n",
    "print(len(PM_score_),len(PM_score))\n",
    "\n",
    "# Shapiro-Wilk test\n",
    "print(stats.shapiro(MIX_score_))\n",
    "print(stats.shapiro(PM_score_))\n",
    "\n",
    "# Welch's t test\n",
    "stats.ttest_ind(MIX_score_, PM_score_, equal_var=False)"
   ]
  },
  {
   "cell_type": "code",
   "execution_count": null,
   "id": "annual-lincoln",
   "metadata": {},
   "outputs": [],
   "source": []
  },
  {
   "cell_type": "code",
   "execution_count": null,
   "id": "computational-screening",
   "metadata": {},
   "outputs": [],
   "source": []
  }
 ],
 "metadata": {
  "kernelspec": {
   "display_name": "Python 3.8.9 64-bit",
   "language": "python",
   "name": "python3"
  },
  "language_info": {
   "codemirror_mode": {
    "name": "ipython",
    "version": 3
   },
   "file_extension": ".py",
   "mimetype": "text/x-python",
   "name": "python",
   "nbconvert_exporter": "python",
   "pygments_lexer": "ipython3",
   "version": "3.8.9"
  },
  "vscode": {
   "interpreter": {
    "hash": "31f2aee4e71d21fbe5cf8b01ff0e069b9275f58929596ceb00d14d90e3e16cd6"
   }
  }
 },
 "nbformat": 4,
 "nbformat_minor": 5
}
